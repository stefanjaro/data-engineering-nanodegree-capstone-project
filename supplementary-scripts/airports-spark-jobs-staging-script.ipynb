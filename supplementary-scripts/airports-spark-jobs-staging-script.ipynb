{
 "cells": [
  {
   "cell_type": "markdown",
   "metadata": {},
   "source": [
    "# Airport Codes Data Processing\n",
    "\n",
    "The staging script for the Airport Codes Processing Spark Job"
   ]
  },
  {
   "cell_type": "code",
   "execution_count": 1,
   "metadata": {},
   "outputs": [],
   "source": [
    "# import libraries\n",
    "import datetime\n",
    "import pandas as pd\n",
    "from pyspark.sql import SparkSession\n",
    "from pyspark.sql import functions as F\n",
    "from pyspark.sql.types import StringType"
   ]
  },
  {
   "cell_type": "markdown",
   "metadata": {},
   "source": [
    "# Spark Job\n",
    "---"
   ]
  },
  {
   "cell_type": "code",
   "execution_count": 2,
   "metadata": {},
   "outputs": [],
   "source": [
    "def initialize_spark():\n",
    "    \"\"\"\n",
    "    Initializes a spark instance\n",
    "    \"\"\"\n",
    "    # initialize spark\n",
    "    spark = SparkSession\\\n",
    "        .builder\\\n",
    "        .appName(\"immigration-data-preprocessing\")\\\n",
    "        .getOrCreate()\n",
    "\n",
    "    return spark"
   ]
  },
  {
   "cell_type": "code",
   "execution_count": 3,
   "metadata": {},
   "outputs": [],
   "source": [
    "def create_ports_fact(spark, input_fp, output_fp):\n",
    "    \"\"\"\n",
    "    Preprocesses and creates the ports fact table\n",
    "\n",
    "    Params\n",
    "    ------\n",
    "    spark: spark session\n",
    "        An initialized spark session\n",
    "    input_fp: str\n",
    "        The location of the airport codes raw data file\n",
    "    output_fp: str\n",
    "        The location where the final fact table should be stored\n",
    "    \"\"\"\n",
    "    # load raw data\n",
    "    ports = spark.read.csv(input_fp, header=True)\n",
    "\n",
    "    # filter out the non us airports\n",
    "    ports = ports.where(ports[\"iso_country\"] == \"US\")\n",
    "\n",
    "    # extract the US states from the iso_region\n",
    "    extract_state = F.udf(lambda x: x.split(\"-\")[-1].strip(), StringType())\n",
    "    ports = ports.withColumn(\"state_id\", extract_state(ports[\"iso_region\"]))\n",
    "\n",
    "    # drop any records with state codes that aren't 2 characters long\n",
    "    ports = ports.where(F.length(ports[\"state_id\"]) == 2)\n",
    "\n",
    "    # create ports fact table\n",
    "    fact_trans_ports = ports.groupby(\"state_id\", \"type\").count()\n",
    "\n",
    "    # create record id\n",
    "    fact_trans_ports = fact_trans_ports.withColumn(\"record_id\", F.monotonically_increasing_id())\n",
    "\n",
    "    # rename columns\n",
    "    fact_trans_col_names = {\n",
    "        \"type\": \"port_type\",\n",
    "        \"count\": \"num_of_ports\"\n",
    "    }\n",
    "\n",
    "    for k,v in fact_trans_col_names.items():\n",
    "        fact_trans_ports = fact_trans_ports.withColumnRenamed(k, v)\n",
    "\n",
    "    fact_trans_ports.write.parquet(output_fp + \"fact_ports/\", \"append\")"
   ]
  },
  {
   "cell_type": "code",
   "execution_count": 4,
   "metadata": {},
   "outputs": [],
   "source": [
    "def main():\n",
    "    \"\"\"\n",
    "    The main function that runs the airport codes spark job\n",
    "    \"\"\"\n",
    "    # hardcoded variables\n",
    "    input_fp = \"../data/airport-codes_csv.csv\"\n",
    "    output_fp = \"../data/output_files/\"\n",
    "\n",
    "    # run spark job\n",
    "    spark = initialize_spark()\n",
    "    create_ports_fact(spark, input_fp, output_fp)\n",
    "    spark.stop()\n"
   ]
  },
  {
   "cell_type": "code",
   "execution_count": 5,
   "metadata": {},
   "outputs": [
    {
     "name": "stderr",
     "output_type": "stream",
     "text": [
      "22/04/07 01:21:45 WARN Utils: Your hostname, pop-os resolves to a loopback address: 127.0.1.1; using 192.168.1.9 instead (on interface wlo1)\n",
      "22/04/07 01:21:45 WARN Utils: Set SPARK_LOCAL_IP if you need to bind to another address\n",
      "Using Spark's default log4j profile: org/apache/spark/log4j-defaults.properties\n",
      "Setting default log level to \"WARN\".\n",
      "To adjust logging level use sc.setLogLevel(newLevel). For SparkR, use setLogLevel(newLevel).\n",
      "22/04/07 01:21:45 WARN NativeCodeLoader: Unable to load native-hadoop library for your platform... using builtin-java classes where applicable\n",
      "22/04/07 01:21:46 WARN Utils: Service 'SparkUI' could not bind on port 4040. Attempting port 4041.\n",
      "22/04/07 01:21:46 WARN Utils: Service 'SparkUI' could not bind on port 4041. Attempting port 4042.\n",
      "22/04/07 01:21:46 WARN Utils: Service 'SparkUI' could not bind on port 4042. Attempting port 4043.\n",
      "                                                                                \r"
     ]
    }
   ],
   "source": [
    "# run above\n",
    "main()"
   ]
  },
  {
   "cell_type": "markdown",
   "metadata": {},
   "source": [
    "# Testing\n",
    "---"
   ]
  },
  {
   "cell_type": "code",
   "execution_count": 6,
   "metadata": {},
   "outputs": [
    {
     "name": "stderr",
     "output_type": "stream",
     "text": [
      "22/04/07 01:22:32 WARN Utils: Service 'SparkUI' could not bind on port 4040. Attempting port 4041.\n",
      "22/04/07 01:22:32 WARN Utils: Service 'SparkUI' could not bind on port 4041. Attempting port 4042.\n",
      "22/04/07 01:22:32 WARN Utils: Service 'SparkUI' could not bind on port 4042. Attempting port 4043.\n"
     ]
    }
   ],
   "source": [
    "# initialize spark\n",
    "spark = initialize_spark()\n",
    "\n",
    "# load data\n",
    "fact_trans = spark.read.parquet(\"../data/output_files/fact_ports/\")"
   ]
  },
  {
   "cell_type": "code",
   "execution_count": 11,
   "metadata": {},
   "outputs": [
    {
     "data": {
      "text/html": [
       "<div>\n",
       "<style scoped>\n",
       "    .dataframe tbody tr th:only-of-type {\n",
       "        vertical-align: middle;\n",
       "    }\n",
       "\n",
       "    .dataframe tbody tr th {\n",
       "        vertical-align: top;\n",
       "    }\n",
       "\n",
       "    .dataframe thead th {\n",
       "        text-align: right;\n",
       "    }\n",
       "</style>\n",
       "<table border=\"1\" class=\"dataframe\">\n",
       "  <thead>\n",
       "    <tr style=\"text-align: right;\">\n",
       "      <th></th>\n",
       "      <th>state_id</th>\n",
       "      <th>port_type</th>\n",
       "      <th>num_of_ports</th>\n",
       "      <th>record_id</th>\n",
       "    </tr>\n",
       "  </thead>\n",
       "  <tbody>\n",
       "    <tr>\n",
       "      <th>0</th>\n",
       "      <td>ME</td>\n",
       "      <td>seaplane_base</td>\n",
       "      <td>44</td>\n",
       "      <td>0</td>\n",
       "    </tr>\n",
       "    <tr>\n",
       "      <th>1</th>\n",
       "      <td>UT</td>\n",
       "      <td>small_airport</td>\n",
       "      <td>95</td>\n",
       "      <td>1</td>\n",
       "    </tr>\n",
       "    <tr>\n",
       "      <th>2</th>\n",
       "      <td>VA</td>\n",
       "      <td>closed</td>\n",
       "      <td>22</td>\n",
       "      <td>2</td>\n",
       "    </tr>\n",
       "    <tr>\n",
       "      <th>3</th>\n",
       "      <td>MI</td>\n",
       "      <td>medium_airport</td>\n",
       "      <td>16</td>\n",
       "      <td>3</td>\n",
       "    </tr>\n",
       "    <tr>\n",
       "      <th>4</th>\n",
       "      <td>ID</td>\n",
       "      <td>medium_airport</td>\n",
       "      <td>9</td>\n",
       "      <td>4</td>\n",
       "    </tr>\n",
       "    <tr>\n",
       "      <th>5</th>\n",
       "      <td>NC</td>\n",
       "      <td>small_airport</td>\n",
       "      <td>329</td>\n",
       "      <td>5</td>\n",
       "    </tr>\n",
       "    <tr>\n",
       "      <th>6</th>\n",
       "      <td>SD</td>\n",
       "      <td>heliport</td>\n",
       "      <td>39</td>\n",
       "      <td>6</td>\n",
       "    </tr>\n",
       "    <tr>\n",
       "      <th>7</th>\n",
       "      <td>MO</td>\n",
       "      <td>seaplane_base</td>\n",
       "      <td>4</td>\n",
       "      <td>7</td>\n",
       "    </tr>\n",
       "    <tr>\n",
       "      <th>8</th>\n",
       "      <td>NY</td>\n",
       "      <td>heliport</td>\n",
       "      <td>184</td>\n",
       "      <td>8</td>\n",
       "    </tr>\n",
       "    <tr>\n",
       "      <th>9</th>\n",
       "      <td>ND</td>\n",
       "      <td>closed</td>\n",
       "      <td>6</td>\n",
       "      <td>9</td>\n",
       "    </tr>\n",
       "  </tbody>\n",
       "</table>\n",
       "</div>"
      ],
      "text/plain": [
       "  state_id       port_type  num_of_ports  record_id\n",
       "0       ME   seaplane_base            44          0\n",
       "1       UT   small_airport            95          1\n",
       "2       VA          closed            22          2\n",
       "3       MI  medium_airport            16          3\n",
       "4       ID  medium_airport             9          4\n",
       "5       NC   small_airport           329          5\n",
       "6       SD        heliport            39          6\n",
       "7       MO   seaplane_base             4          7\n",
       "8       NY        heliport           184          8\n",
       "9       ND          closed             6          9"
      ]
     },
     "execution_count": 11,
     "metadata": {},
     "output_type": "execute_result"
    }
   ],
   "source": [
    "# head\n",
    "fact_trans.limit(10).toPandas()"
   ]
  },
  {
   "cell_type": "code",
   "execution_count": 12,
   "metadata": {},
   "outputs": [
    {
     "data": {
      "text/plain": [
       "[Row(sum(num_of_ports)=22747)]"
      ]
     },
     "execution_count": 12,
     "metadata": {},
     "output_type": "execute_result"
    }
   ],
   "source": [
    "# check total\n",
    "fact_trans.agg({\"num_of_ports\": \"sum\"}).collect()"
   ]
  }
 ],
 "metadata": {
  "interpreter": {
   "hash": "916dbcbb3f70747c44a77c7bcd40155683ae19c65e1c03b4aa3499c5328201f1"
  },
  "kernelspec": {
   "display_name": "Python 3.9.7 64-bit",
   "language": "python",
   "name": "python3"
  },
  "language_info": {
   "codemirror_mode": {
    "name": "ipython",
    "version": 3
   },
   "file_extension": ".py",
   "mimetype": "text/x-python",
   "name": "python",
   "nbconvert_exporter": "python",
   "pygments_lexer": "ipython3",
   "version": "3.7.11"
  },
  "orig_nbformat": 4
 },
 "nbformat": 4,
 "nbformat_minor": 2
}
